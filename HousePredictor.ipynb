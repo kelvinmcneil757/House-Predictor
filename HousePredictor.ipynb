{
 "cells": [
  {
   "cell_type": "code",
   "execution_count": 2,
   "id": "16412c6c",
   "metadata": {},
   "outputs": [
    {
     "name": "stdout",
     "output_type": "stream",
     "text": [
      "Sample data:\n",
      "   Bedrooms  Size_sqft   Price\n",
      "0         2       1000  200000\n",
      "1         3       1500  250000\n",
      "2         3       1600  270000\n",
      "3         4       1800  310000\n",
      "4         4       2000  330000\n",
      "5         5       2400  400000\n",
      "\n",
      "Predicted prices:\n",
      "[180000.         256666.66666667]\n",
      "\n",
      "Your house estimated price:\n",
      "[280000.]\n"
     ]
    },
    {
     "name": "stderr",
     "output_type": "stream",
     "text": [
      "/Library/Frameworks/Python.framework/Versions/3.13/lib/python3.13/site-packages/sklearn/utils/validation.py:2739: UserWarning: X does not have valid feature names, but LinearRegression was fitted with feature names\n",
      "  warnings.warn(\n"
     ]
    }
   ],
   "source": [
    "# 📘 Simple House Price Predictor with Python\n",
    "\n",
    "# STEP 1: Import tools\n",
    "import pandas as pd           # to work with data\n",
    "from sklearn.linear_model import LinearRegression  # ML model\n",
    "from sklearn.model_selection import train_test_split  # to split data\n",
    "\n",
    "# STEP 2: Load sample housing data\n",
    "# We create a small example dataset\n",
    "house_data = pd.DataFrame({\n",
    "    'Bedrooms': [2, 3, 3, 4, 4, 5],\n",
    "    'Size_sqft': [1000, 1500, 1600, 1800, 2000, 2400],\n",
    "    'Price': [200000, 250000, 270000, 310000, 330000, 400000]\n",
    "})\n",
    "\n",
    "print(\"Sample data:\")\n",
    "print(house_data)\n",
    "\n",
    "# STEP 3: Prepare data (features and label)\n",
    "X = house_data[['Bedrooms', 'Size_sqft']]  # features\n",
    "y = house_data['Price']                    # label (what we want to predict)\n",
    "\n",
    "# STEP 4: Split data for training and testing\n",
    "X_train, X_test, y_train, y_test = train_test_split(X, y, test_size=0.3, random_state=42)\n",
    "\n",
    "# STEP 5: Train the model\n",
    "model = LinearRegression()\n",
    "model.fit(X_train, y_train)\n",
    "\n",
    "# STEP 6: Make predictions\n",
    "predictions = model.predict(X_test)\n",
    "print(\"\\nPredicted prices:\")\n",
    "print(predictions)\n",
    "\n",
    "# STEP 7: Try your own input!\n",
    "my_house = [[3, 1700]]  # 3 bedrooms, 1700 sqft\n",
    "my_prediction = model.predict(my_house)\n",
    "print(\"\\nYour house estimated price:\")\n",
    "print(my_prediction)\n",
    "\n"
   ]
  }
 ],
 "metadata": {
  "kernelspec": {
   "display_name": "Python 3",
   "language": "python",
   "name": "python3"
  },
  "language_info": {
   "codemirror_mode": {
    "name": "ipython",
    "version": 3
   },
   "file_extension": ".py",
   "mimetype": "text/x-python",
   "name": "python",
   "nbconvert_exporter": "python",
   "pygments_lexer": "ipython3",
   "version": "3.13.3"
  }
 },
 "nbformat": 4,
 "nbformat_minor": 5
}
